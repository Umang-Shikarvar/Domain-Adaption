{
 "cells": [
  {
   "cell_type": "code",
   "execution_count": 1,
   "metadata": {},
   "outputs": [],
   "source": [
    "import pandas as pd"
   ]
  },
  {
   "cell_type": "markdown",
   "metadata": {},
   "source": [
    "# CycleGAN + YOLO"
   ]
  },
  {
   "cell_type": "markdown",
   "metadata": {},
   "source": [
    "## Haryana To Bihar"
   ]
  },
  {
   "cell_type": "code",
   "execution_count": 4,
   "metadata": {},
   "outputs": [
    {
     "data": {
      "text/html": [
       "<style type=\"text/css\">\n",
       "</style>\n",
       "<table id=\"T_7862c\">\n",
       "  <thead>\n",
       "    <tr>\n",
       "      <th id=\"T_7862c_level0_col0\" class=\"col_heading level0 col0\" >Model</th>\n",
       "      <th id=\"T_7862c_level0_col1\" class=\"col_heading level0 col1\" >CFCBK</th>\n",
       "      <th id=\"T_7862c_level0_col2\" class=\"col_heading level0 col2\" >FCBK</th>\n",
       "      <th id=\"T_7862c_level0_col3\" class=\"col_heading level0 col3\" >Zigzag</th>\n",
       "      <th id=\"T_7862c_level0_col4\" class=\"col_heading level0 col4\" >mAP</th>\n",
       "      <th id=\"T_7862c_level0_col5\" class=\"col_heading level0 col5\" >Class-agnostic AP</th>\n",
       "    </tr>\n",
       "  </thead>\n",
       "  <tbody>\n",
       "    <tr>\n",
       "      <td id=\"T_7862c_row0_col0\" class=\"data row0 col0\" >Base Model</td>\n",
       "      <td id=\"T_7862c_row0_col1\" class=\"data row0 col1\" >0.000000</td>\n",
       "      <td id=\"T_7862c_row0_col2\" class=\"data row0 col2\" >0.000251</td>\n",
       "      <td id=\"T_7862c_row0_col3\" class=\"data row0 col3\" >0.366230</td>\n",
       "      <td id=\"T_7862c_row0_col4\" class=\"data row0 col4\" >0.375229</td>\n",
       "      <td id=\"T_7862c_row0_col5\" class=\"data row0 col5\" >0.375229</td>\n",
       "    </tr>\n",
       "    <tr>\n",
       "      <td id=\"T_7862c_row1_col0\" class=\"data row1 col0\" >Synthetic Haryana</td>\n",
       "      <td id=\"T_7862c_row1_col1\" class=\"data row1 col1\" >0.000000</td>\n",
       "      <td id=\"T_7862c_row1_col2\" class=\"data row1 col2\" >0.002557</td>\n",
       "      <td id=\"T_7862c_row1_col3\" class=\"data row1 col3\" >0.543810</td>\n",
       "      <td id=\"T_7862c_row1_col4\" class=\"data row1 col4\" >0.551084</td>\n",
       "      <td id=\"T_7862c_row1_col5\" class=\"data row1 col5\" >0.551084</td>\n",
       "    </tr>\n",
       "    <tr>\n",
       "      <td id=\"T_7862c_row2_col0\" class=\"data row2 col0\" >Haryana fine-tuned to Synthetic Haryana</td>\n",
       "      <td id=\"T_7862c_row2_col1\" class=\"data row2 col1\" >0.000000</td>\n",
       "      <td id=\"T_7862c_row2_col2\" class=\"data row2 col2\" >0.002137</td>\n",
       "      <td id=\"T_7862c_row2_col3\" class=\"data row2 col3\" >0.536792</td>\n",
       "      <td id=\"T_7862c_row2_col4\" class=\"data row2 col4\" >0.546400</td>\n",
       "      <td id=\"T_7862c_row2_col5\" class=\"data row2 col5\" >0.546400</td>\n",
       "    </tr>\n",
       "  </tbody>\n",
       "</table>\n"
      ],
      "text/plain": [
       "<pandas.io.formats.style.Styler at 0x7fa52c42b190>"
      ]
     },
     "metadata": {},
     "output_type": "display_data"
    }
   ],
   "source": [
    "df = pd.read_csv(\"/home/umang.shikarvar/map/Haryana_to_Bihar.csv\")\n",
    "display(df.style.hide(axis=\"index\"))"
   ]
  },
  {
   "cell_type": "markdown",
   "metadata": {},
   "source": [
    "## UP To Bihar"
   ]
  },
  {
   "cell_type": "code",
   "execution_count": 5,
   "metadata": {},
   "outputs": [
    {
     "data": {
      "text/html": [
       "<style type=\"text/css\">\n",
       "</style>\n",
       "<table id=\"T_ea406\">\n",
       "  <thead>\n",
       "    <tr>\n",
       "      <th id=\"T_ea406_level0_col0\" class=\"col_heading level0 col0\" >Model</th>\n",
       "      <th id=\"T_ea406_level0_col1\" class=\"col_heading level0 col1\" >CFCBK</th>\n",
       "      <th id=\"T_ea406_level0_col2\" class=\"col_heading level0 col2\" >FCBK</th>\n",
       "      <th id=\"T_ea406_level0_col3\" class=\"col_heading level0 col3\" >Zigzag</th>\n",
       "      <th id=\"T_ea406_level0_col4\" class=\"col_heading level0 col4\" >mAP</th>\n",
       "      <th id=\"T_ea406_level0_col5\" class=\"col_heading level0 col5\" >Class-agnostic AP</th>\n",
       "    </tr>\n",
       "  </thead>\n",
       "  <tbody>\n",
       "    <tr>\n",
       "      <td id=\"T_ea406_row0_col0\" class=\"data row0 col0\" >Base Model</td>\n",
       "      <td id=\"T_ea406_row0_col1\" class=\"data row0 col1\" >0.000000</td>\n",
       "      <td id=\"T_ea406_row0_col2\" class=\"data row0 col2\" >0.012656</td>\n",
       "      <td id=\"T_ea406_row0_col3\" class=\"data row0 col3\" >0.509686</td>\n",
       "      <td id=\"T_ea406_row0_col4\" class=\"data row0 col4\" >0.524330</td>\n",
       "      <td id=\"T_ea406_row0_col5\" class=\"data row0 col5\" >0.524330</td>\n",
       "    </tr>\n",
       "    <tr>\n",
       "      <td id=\"T_ea406_row1_col0\" class=\"data row1 col0\" >Synthetic UP</td>\n",
       "      <td id=\"T_ea406_row1_col1\" class=\"data row1 col1\" >0.037129</td>\n",
       "      <td id=\"T_ea406_row1_col2\" class=\"data row1 col2\" >0.008624</td>\n",
       "      <td id=\"T_ea406_row1_col3\" class=\"data row1 col3\" >0.537131</td>\n",
       "      <td id=\"T_ea406_row1_col4\" class=\"data row1 col4\" >0.557157</td>\n",
       "      <td id=\"T_ea406_row1_col5\" class=\"data row1 col5\" >0.557157</td>\n",
       "    </tr>\n",
       "  </tbody>\n",
       "</table>\n"
      ],
      "text/plain": [
       "<pandas.io.formats.style.Styler at 0x7fa48c571b50>"
      ]
     },
     "metadata": {},
     "output_type": "display_data"
    }
   ],
   "source": [
    "df = pd.read_csv(\"/home/umang.shikarvar/map/UP_to_Bihar.csv\")\n",
    "display(df.style.hide(axis=\"index\"))"
   ]
  },
  {
   "cell_type": "markdown",
   "metadata": {},
   "source": [
    "## Punjab To Bihar"
   ]
  },
  {
   "cell_type": "code",
   "execution_count": 6,
   "metadata": {},
   "outputs": [
    {
     "data": {
      "text/html": [
       "<style type=\"text/css\">\n",
       "</style>\n",
       "<table id=\"T_74d1c\">\n",
       "  <thead>\n",
       "    <tr>\n",
       "      <th id=\"T_74d1c_level0_col0\" class=\"col_heading level0 col0\" >Model</th>\n",
       "      <th id=\"T_74d1c_level0_col1\" class=\"col_heading level0 col1\" >CFCBK</th>\n",
       "      <th id=\"T_74d1c_level0_col2\" class=\"col_heading level0 col2\" >FCBK</th>\n",
       "      <th id=\"T_74d1c_level0_col3\" class=\"col_heading level0 col3\" >Zigzag</th>\n",
       "      <th id=\"T_74d1c_level0_col4\" class=\"col_heading level0 col4\" >mAP</th>\n",
       "      <th id=\"T_74d1c_level0_col5\" class=\"col_heading level0 col5\" >Class-agnostic AP</th>\n",
       "    </tr>\n",
       "  </thead>\n",
       "  <tbody>\n",
       "    <tr>\n",
       "      <td id=\"T_74d1c_row0_col0\" class=\"data row0 col0\" >Base Model</td>\n",
       "      <td id=\"T_74d1c_row0_col1\" class=\"data row0 col1\" >0.000000</td>\n",
       "      <td id=\"T_74d1c_row0_col2\" class=\"data row0 col2\" >0.000000</td>\n",
       "      <td id=\"T_74d1c_row0_col3\" class=\"data row0 col3\" >0.555364</td>\n",
       "      <td id=\"T_74d1c_row0_col4\" class=\"data row0 col4\" >0.552792</td>\n",
       "      <td id=\"T_74d1c_row0_col5\" class=\"data row0 col5\" >0.552792</td>\n",
       "    </tr>\n",
       "    <tr>\n",
       "      <td id=\"T_74d1c_row1_col0\" class=\"data row1 col0\" >Synthetic Punjab</td>\n",
       "      <td id=\"T_74d1c_row1_col1\" class=\"data row1 col1\" >0.000000</td>\n",
       "      <td id=\"T_74d1c_row1_col2\" class=\"data row1 col2\" >0.004144</td>\n",
       "      <td id=\"T_74d1c_row1_col3\" class=\"data row1 col3\" >0.321760</td>\n",
       "      <td id=\"T_74d1c_row1_col4\" class=\"data row1 col4\" >0.326705</td>\n",
       "      <td id=\"T_74d1c_row1_col5\" class=\"data row1 col5\" >0.326705</td>\n",
       "    </tr>\n",
       "    <tr>\n",
       "      <td id=\"T_74d1c_row2_col0\" class=\"data row2 col0\" >Synthetic Punjab(100 epochs)</td>\n",
       "      <td id=\"T_74d1c_row2_col1\" class=\"data row2 col1\" >0.000000</td>\n",
       "      <td id=\"T_74d1c_row2_col2\" class=\"data row2 col2\" >0.001916</td>\n",
       "      <td id=\"T_74d1c_row2_col3\" class=\"data row2 col3\" >0.520500</td>\n",
       "      <td id=\"T_74d1c_row2_col4\" class=\"data row2 col4\" >0.528804</td>\n",
       "      <td id=\"T_74d1c_row2_col5\" class=\"data row2 col5\" >0.528804</td>\n",
       "    </tr>\n",
       "    <tr>\n",
       "      <td id=\"T_74d1c_row3_col0\" class=\"data row3 col0\" >Synthetic Punjab(150 epochs)</td>\n",
       "      <td id=\"T_74d1c_row3_col1\" class=\"data row3 col1\" >0.000000</td>\n",
       "      <td id=\"T_74d1c_row3_col2\" class=\"data row3 col2\" >0.000763</td>\n",
       "      <td id=\"T_74d1c_row3_col3\" class=\"data row3 col3\" >0.305563</td>\n",
       "      <td id=\"T_74d1c_row3_col4\" class=\"data row3 col4\" >0.305480</td>\n",
       "      <td id=\"T_74d1c_row3_col5\" class=\"data row3 col5\" >0.305480</td>\n",
       "    </tr>\n",
       "  </tbody>\n",
       "</table>\n"
      ],
      "text/plain": [
       "<pandas.io.formats.style.Styler at 0x7fa48c573390>"
      ]
     },
     "metadata": {},
     "output_type": "display_data"
    }
   ],
   "source": [
    "df = pd.read_csv(\"/home/umang.shikarvar/map/Punjab_to_Bihar.csv\")\n",
    "display(df.style.hide(axis=\"index\"))"
   ]
  },
  {
   "cell_type": "markdown",
   "metadata": {},
   "source": [
    "## West Bengal To Haryana"
   ]
  },
  {
   "cell_type": "code",
   "execution_count": 7,
   "metadata": {},
   "outputs": [
    {
     "data": {
      "text/html": [
       "<style type=\"text/css\">\n",
       "</style>\n",
       "<table id=\"T_17810\">\n",
       "  <thead>\n",
       "    <tr>\n",
       "      <th id=\"T_17810_level0_col0\" class=\"col_heading level0 col0\" >Model</th>\n",
       "      <th id=\"T_17810_level0_col1\" class=\"col_heading level0 col1\" >CFCBK</th>\n",
       "      <th id=\"T_17810_level0_col2\" class=\"col_heading level0 col2\" >FCBK</th>\n",
       "      <th id=\"T_17810_level0_col3\" class=\"col_heading level0 col3\" >Zigzag</th>\n",
       "      <th id=\"T_17810_level0_col4\" class=\"col_heading level0 col4\" >mAP</th>\n",
       "      <th id=\"T_17810_level0_col5\" class=\"col_heading level0 col5\" >Class-agnostic AP</th>\n",
       "    </tr>\n",
       "  </thead>\n",
       "  <tbody>\n",
       "    <tr>\n",
       "      <td id=\"T_17810_row0_col0\" class=\"data row0 col0\" >Base model</td>\n",
       "      <td id=\"T_17810_row0_col1\" class=\"data row0 col1\" >0.000000</td>\n",
       "      <td id=\"T_17810_row0_col2\" class=\"data row0 col2\" >0.027283</td>\n",
       "      <td id=\"T_17810_row0_col3\" class=\"data row0 col3\" >0.337470</td>\n",
       "      <td id=\"T_17810_row0_col4\" class=\"data row0 col4\" >0.354308</td>\n",
       "      <td id=\"T_17810_row0_col5\" class=\"data row0 col5\" >0.354308</td>\n",
       "    </tr>\n",
       "    <tr>\n",
       "      <td id=\"T_17810_row1_col0\" class=\"data row1 col0\" >Synthetic WB</td>\n",
       "      <td id=\"T_17810_row1_col1\" class=\"data row1 col1\" >0.000000</td>\n",
       "      <td id=\"T_17810_row1_col2\" class=\"data row1 col2\" >0.000105</td>\n",
       "      <td id=\"T_17810_row1_col3\" class=\"data row1 col3\" >0.108571</td>\n",
       "      <td id=\"T_17810_row1_col4\" class=\"data row1 col4\" >0.106651</td>\n",
       "      <td id=\"T_17810_row1_col5\" class=\"data row1 col5\" >0.106651</td>\n",
       "    </tr>\n",
       "    <tr>\n",
       "      <td id=\"T_17810_row2_col0\" class=\"data row2 col0\" >WB fine-tuned to Synthetic WB</td>\n",
       "      <td id=\"T_17810_row2_col1\" class=\"data row2 col1\" >0.000000</td>\n",
       "      <td id=\"T_17810_row2_col2\" class=\"data row2 col2\" >0.000000</td>\n",
       "      <td id=\"T_17810_row2_col3\" class=\"data row2 col3\" >0.112060</td>\n",
       "      <td id=\"T_17810_row2_col4\" class=\"data row2 col4\" >0.110625</td>\n",
       "      <td id=\"T_17810_row2_col5\" class=\"data row2 col5\" >0.110625</td>\n",
       "    </tr>\n",
       "    <tr>\n",
       "      <td id=\"T_17810_row3_col0\" class=\"data row3 col0\" >WB and Synthetic WB</td>\n",
       "      <td id=\"T_17810_row3_col1\" class=\"data row3 col1\" >0.000000</td>\n",
       "      <td id=\"T_17810_row3_col2\" class=\"data row3 col2\" >0.002939</td>\n",
       "      <td id=\"T_17810_row3_col3\" class=\"data row3 col3\" >0.117276</td>\n",
       "      <td id=\"T_17810_row3_col4\" class=\"data row3 col4\" >0.119447</td>\n",
       "      <td id=\"T_17810_row3_col5\" class=\"data row3 col5\" >0.119447</td>\n",
       "    </tr>\n",
       "    <tr>\n",
       "      <td id=\"T_17810_row4_col0\" class=\"data row4 col0\" >Feature preserved WB</td>\n",
       "      <td id=\"T_17810_row4_col1\" class=\"data row4 col1\" >0.000000</td>\n",
       "      <td id=\"T_17810_row4_col2\" class=\"data row4 col2\" >0.003786</td>\n",
       "      <td id=\"T_17810_row4_col3\" class=\"data row4 col3\" >0.424446</td>\n",
       "      <td id=\"T_17810_row4_col4\" class=\"data row4 col4\" >0.456373</td>\n",
       "      <td id=\"T_17810_row4_col5\" class=\"data row4 col5\" >0.456373</td>\n",
       "    </tr>\n",
       "    <tr>\n",
       "      <td id=\"T_17810_row5_col0\" class=\"data row5 col0\" >Synthetic WB(100 epochs)</td>\n",
       "      <td id=\"T_17810_row5_col1\" class=\"data row5 col1\" >0.000000</td>\n",
       "      <td id=\"T_17810_row5_col2\" class=\"data row5 col2\" >0.002641</td>\n",
       "      <td id=\"T_17810_row5_col3\" class=\"data row5 col3\" >0.146756</td>\n",
       "      <td id=\"T_17810_row5_col4\" class=\"data row5 col4\" >0.165965</td>\n",
       "      <td id=\"T_17810_row5_col5\" class=\"data row5 col5\" >0.165965</td>\n",
       "    </tr>\n",
       "    <tr>\n",
       "      <td id=\"T_17810_row6_col0\" class=\"data row6 col0\" >Synthetic WB(150 epochs)</td>\n",
       "      <td id=\"T_17810_row6_col1\" class=\"data row6 col1\" >0.000000</td>\n",
       "      <td id=\"T_17810_row6_col2\" class=\"data row6 col2\" >0.003597</td>\n",
       "      <td id=\"T_17810_row6_col3\" class=\"data row6 col3\" >0.189944</td>\n",
       "      <td id=\"T_17810_row6_col4\" class=\"data row6 col4\" >0.211005</td>\n",
       "      <td id=\"T_17810_row6_col5\" class=\"data row6 col5\" >0.211005</td>\n",
       "    </tr>\n",
       "    <tr>\n",
       "      <td id=\"T_17810_row7_col0\" class=\"data row7 col0\" >Synthetic WB(170 epochs)</td>\n",
       "      <td id=\"T_17810_row7_col1\" class=\"data row7 col1\" >0.000000</td>\n",
       "      <td id=\"T_17810_row7_col2\" class=\"data row7 col2\" >0.000000</td>\n",
       "      <td id=\"T_17810_row7_col3\" class=\"data row7 col3\" >0.112060</td>\n",
       "      <td id=\"T_17810_row7_col4\" class=\"data row7 col4\" >0.110625</td>\n",
       "      <td id=\"T_17810_row7_col5\" class=\"data row7 col5\" >0.110625</td>\n",
       "    </tr>\n",
       "    <tr>\n",
       "      <td id=\"T_17810_row8_col0\" class=\"data row8 col0\" >Synthetic WB(Data Augmentation)</td>\n",
       "      <td id=\"T_17810_row8_col1\" class=\"data row8 col1\" >0.000000</td>\n",
       "      <td id=\"T_17810_row8_col2\" class=\"data row8 col2\" >0.000542</td>\n",
       "      <td id=\"T_17810_row8_col3\" class=\"data row8 col3\" >0.105592</td>\n",
       "      <td id=\"T_17810_row8_col4\" class=\"data row8 col4\" >0.105520</td>\n",
       "      <td id=\"T_17810_row8_col5\" class=\"data row8 col5\" >0.105520</td>\n",
       "    </tr>\n",
       "    <tr>\n",
       "      <td id=\"T_17810_row9_col0\" class=\"data row9 col0\" >Feature preserved WB</td>\n",
       "      <td id=\"T_17810_row9_col1\" class=\"data row9 col1\" >0.000000</td>\n",
       "      <td id=\"T_17810_row9_col2\" class=\"data row9 col2\" >0.003560</td>\n",
       "      <td id=\"T_17810_row9_col3\" class=\"data row9 col3\" >0.268346</td>\n",
       "      <td id=\"T_17810_row9_col4\" class=\"data row9 col4\" >0.296629</td>\n",
       "      <td id=\"T_17810_row9_col5\" class=\"data row9 col5\" >0.296629</td>\n",
       "    </tr>\n",
       "  </tbody>\n",
       "</table>\n"
      ],
      "text/plain": [
       "<pandas.io.formats.style.Styler at 0x7fa48bb64c90>"
      ]
     },
     "metadata": {},
     "output_type": "display_data"
    }
   ],
   "source": [
    "df = pd.read_csv(\"/home/umang.shikarvar/map/WB_to_Haryana.csv\")\n",
    "display(df.style.hide(axis=\"index\"))"
   ]
  }
 ],
 "metadata": {
  "kernelspec": {
   "display_name": "Python 3",
   "language": "python",
   "name": "python3"
  },
  "language_info": {
   "codemirror_mode": {
    "name": "ipython",
    "version": 3
   },
   "file_extension": ".py",
   "mimetype": "text/x-python",
   "name": "python",
   "nbconvert_exporter": "python",
   "pygments_lexer": "ipython3",
   "version": "3.11.7"
  }
 },
 "nbformat": 4,
 "nbformat_minor": 2
}
